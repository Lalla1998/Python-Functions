{
  "nbformat": 4,
  "nbformat_minor": 0,
  "metadata": {
    "colab": {
      "provenance": []
    },
    "kernelspec": {
      "name": "python3",
      "display_name": "Python 3"
    },
    "language_info": {
      "name": "python"
    }
  },
  "cells": [
    {
      "cell_type": "markdown",
      "source": [
        "# Theory Questions :"
      ],
      "metadata": {
        "id": "uNgoQHPYB_VK"
      }
    },
    {
      "cell_type": "markdown",
      "source": [
        "1. What is the difference between a function and a method in Python?"
      ],
      "metadata": {
        "id": "rlxSgwY0CI4E"
      }
    },
    {
      "cell_type": "markdown",
      "source": [
        "**Answer :-** Functions and methods are the block of code that designed to performs a specific task although there are some key differences:\n",
        "\n",
        "##### Functions-\n",
        "\n",
        "*   It is defined using def keyword.\n",
        "*   It is called independently and associated with any object.\n",
        "\n",
        "*   It can be defined inside and outside the classes.\n",
        "\n",
        "##### Method-\n",
        "\n",
        "*   A method is a function that is associated with an object.\n",
        "*   It is defined inside a class.\n",
        "*   It can be called using the dot notation on an object.\n",
        "\n",
        "\n",
        "\n",
        "\n",
        "\n",
        "\n"
      ],
      "metadata": {
        "id": "ND3042ctCOuZ"
      }
    },
    {
      "cell_type": "code",
      "execution_count": null,
      "metadata": {
        "colab": {
          "base_uri": "https://localhost:8080/"
        },
        "id": "z3ryZFVaB1t2",
        "outputId": "038ab4ff-a159-43de-d652-a469d75a381b"
      },
      "outputs": [
        {
          "output_type": "stream",
          "name": "stdout",
          "text": [
            "Jai Shree Ram, Yash\n"
          ]
        }
      ],
      "source": [
        "# Examples\n",
        "#Functions\n",
        "def greet(name):\n",
        "  print(f\"Jai Shree Ram, {name}\")\n",
        "\n",
        "greet(\"Yash\")"
      ]
    },
    {
      "cell_type": "code",
      "source": [
        "#Methods\n",
        "class Person:\n",
        "  def __init__(self, name):\n",
        "    self.name = name\n",
        "\n",
        "  def greet(self):\n",
        "    print(f\"Jai Shree Ram, {self.name}\")\n",
        "\n",
        "person = Person(\"Yash\")\n",
        "person.greet()"
      ],
      "metadata": {
        "colab": {
          "base_uri": "https://localhost:8080/"
        },
        "id": "bq_K90EbID0n",
        "outputId": "58e6c4be-2e85-4334-c85c-cacd383da3ea"
      },
      "execution_count": null,
      "outputs": [
        {
          "output_type": "stream",
          "name": "stdout",
          "text": [
            "Jai Shree Ram, Yash\n"
          ]
        }
      ]
    },
    {
      "cell_type": "markdown",
      "source": [
        "2. Explain the concept of function arguments and parameters in Python."
      ],
      "metadata": {
        "id": "St-GwD_vIiPE"
      }
    },
    {
      "cell_type": "markdown",
      "source": [
        "**Answer :-** Parameters in a function are the variables that is defined inside the body of the function while defining the function that can be used only inside the function.\n",
        "\n",
        "Arguments are the variables which we are passing while calling a function.Arguments are of many types like Positional arguments,Default arguments,etc."
      ],
      "metadata": {
        "id": "NGddsUYc2xRI"
      }
    },
    {
      "cell_type": "code",
      "source": [
        "#example:-\n",
        "#Parameters\n",
        "def greet(name,msg):    # name and msg are the parameters\n",
        "  print(f\"Hi, {name}! you have a message{msg}\")\n",
        "\n",
        "#Arguments\n",
        "greet(\"Yash\",\"How are you?\")   #Yash and 'How are you' are the arguments"
      ],
      "metadata": {
        "colab": {
          "base_uri": "https://localhost:8080/"
        },
        "id": "fBpure-HIg1b",
        "outputId": "a6e3a479-e8ef-46c2-bda8-423002a50add"
      },
      "execution_count": null,
      "outputs": [
        {
          "output_type": "stream",
          "name": "stdout",
          "text": [
            "Hi, Yash! you have a messageHow are you?\n"
          ]
        }
      ]
    },
    {
      "cell_type": "markdown",
      "source": [
        "3.What are the different ways to define and call a function in Python?"
      ],
      "metadata": {
        "id": "4T7hWnxR4pLC"
      }
    },
    {
      "cell_type": "markdown",
      "source": [
        "**Answer :-** In Python , we define a standard function using the def keyword\n",
        "\n",
        " followed by function body that is written with proper indentation.\n",
        "\n",
        "for example:"
      ],
      "metadata": {
        "id": "xliEU5aZ40T4"
      }
    },
    {
      "cell_type": "code",
      "source": [
        "def greet(name):\n",
        "  print(f\"Hello, {name}\")"
      ],
      "metadata": {
        "id": "XPBJkqCn4XmR"
      },
      "execution_count": null,
      "outputs": []
    },
    {
      "cell_type": "markdown",
      "source": [
        "We define short anonymous function in python that is lambda function , it is used for short one line functions.\n",
        "\n",
        "for example:"
      ],
      "metadata": {
        "id": "KAKpI-9jJLvw"
      }
    },
    {
      "cell_type": "code",
      "source": [
        "square  = lambda x: x**2\n",
        "print(square(5))"
      ],
      "metadata": {
        "colab": {
          "base_uri": "https://localhost:8080/"
        },
        "id": "ClzszY_xJK3p",
        "outputId": "8b17154f-7110-44d6-cc0f-8cafa2dbe8d1"
      },
      "execution_count": null,
      "outputs": [
        {
          "output_type": "stream",
          "name": "stdout",
          "text": [
            "25\n"
          ]
        }
      ]
    },
    {
      "cell_type": "markdown",
      "source": [
        "Now we can call function by various ways which are shown by examples."
      ],
      "metadata": {
        "id": "Pj84Rdg5KFo8"
      }
    },
    {
      "cell_type": "code",
      "source": [
        "#Function with default parameters\n",
        "def greet(name = \"Rahul\"):\n",
        "  print(f\"Hello, {name}\")\n",
        "\n",
        "greet()"
      ],
      "metadata": {
        "colab": {
          "base_uri": "https://localhost:8080/"
        },
        "id": "i2fracCBKAiR",
        "outputId": "dd2ec49d-15f8-430b-9299-d650db578f8a"
      },
      "execution_count": null,
      "outputs": [
        {
          "output_type": "stream",
          "name": "stdout",
          "text": [
            "Hello, Rahul\n"
          ]
        }
      ]
    },
    {
      "cell_type": "code",
      "source": [
        "#Function with variable length arguments\n",
        "def add_multiple(*numbers):\n",
        "  return sum(numbers)\n",
        "\n",
        "print(add_multiple(23,34,54,45))"
      ],
      "metadata": {
        "colab": {
          "base_uri": "https://localhost:8080/"
        },
        "id": "nnYERPwALRYa",
        "outputId": "dbd9e190-16e8-48d7-e0ca-b569222a76ba"
      },
      "execution_count": null,
      "outputs": [
        {
          "output_type": "stream",
          "name": "stdout",
          "text": [
            "156\n"
          ]
        }
      ]
    },
    {
      "cell_type": "code",
      "source": [
        "#Function inside functions\n",
        "def external():\n",
        "  def internal():\n",
        "    print(\"We are in inner function\")\n",
        "\n",
        "  internal()\n",
        "  print(\"We are in outer function\")\n",
        "\n",
        "external()"
      ],
      "metadata": {
        "colab": {
          "base_uri": "https://localhost:8080/"
        },
        "id": "sOzTDPGcLf0c",
        "outputId": "f9774ee5-0a77-4460-f478-a842cb66430e"
      },
      "execution_count": null,
      "outputs": [
        {
          "output_type": "stream",
          "name": "stdout",
          "text": [
            "We are in inner function\n",
            "We are in outer function\n"
          ]
        }
      ]
    },
    {
      "cell_type": "code",
      "source": [
        "# We can call functions by taking functions as arguments\n",
        "def temperature():\n",
        "  print(\"Today is very hot weather\")\n",
        "def call_func(func):\n",
        "  print(func)\n",
        "\n",
        "call_func(temperature())"
      ],
      "metadata": {
        "colab": {
          "base_uri": "https://localhost:8080/"
        },
        "id": "baKKPsf2NDBq",
        "outputId": "1b80dc00-30f5-4097-8ce6-2256acad9e89"
      },
      "execution_count": null,
      "outputs": [
        {
          "output_type": "stream",
          "name": "stdout",
          "text": [
            "Today is very hot weather\n",
            "None\n"
          ]
        }
      ]
    },
    {
      "cell_type": "code",
      "source": [
        "# using keyword arguments while calling a function\n",
        "def show_info(**info):\n",
        "  for key,value in info.items():\n",
        "    print(f\"{key} : {value}\")\n",
        "\n",
        "show_info(name = \"Rahul\",age = 30)\n"
      ],
      "metadata": {
        "colab": {
          "base_uri": "https://localhost:8080/"
        },
        "id": "F_e777pzOa14",
        "outputId": "83e2fe7a-2109-4e77-9d27-09ac094d49a0"
      },
      "execution_count": null,
      "outputs": [
        {
          "output_type": "stream",
          "name": "stdout",
          "text": [
            "name : Rahul\n",
            "age : 30\n"
          ]
        }
      ]
    },
    {
      "cell_type": "markdown",
      "source": [
        "4.What is the purpose of the `return` statement in a Python function?"
      ],
      "metadata": {
        "id": "oMGBXk_UP-Yu"
      }
    },
    {
      "cell_type": "markdown",
      "source": [
        "**Answer :-** The purpose of return statement is to terminate the function and send the result back to the caller of the function. It ends the function and passes a value to the caller.\n",
        "\n",
        "Python terminate the function immidiately even if ther are more lines of code below.\n"
      ],
      "metadata": {
        "id": "tnQLlAHERKHe"
      }
    },
    {
      "cell_type": "code",
      "source": [
        "def square(a):\n",
        "  return a*a\n",
        "\n",
        "square(23)"
      ],
      "metadata": {
        "colab": {
          "base_uri": "https://localhost:8080/"
        },
        "id": "EniC1cF4Pxek",
        "outputId": "8966d826-784e-44b8-e81b-021328d3c5ee"
      },
      "execution_count": null,
      "outputs": [
        {
          "output_type": "execute_result",
          "data": {
            "text/plain": [
              "529"
            ]
          },
          "metadata": {},
          "execution_count": 12
        }
      ]
    },
    {
      "cell_type": "markdown",
      "source": [
        "5.What are iterators in Python and how do they differ from iterables?"
      ],
      "metadata": {
        "id": "aI-dHMEoTFNm"
      }
    },
    {
      "cell_type": "markdown",
      "source": [
        "**Answer :-** Iterators in python is an object representing a stream of data and returns the data one by one .\n",
        "\n",
        "An iterator is an object that allows traversal through a countable number of values.It is used to iterate over iterable objects like lists , tuple, sets, etc.We can get an iterator from an iterable using the iter() function."
      ],
      "metadata": {
        "id": "fOJIaqiWTHpv"
      }
    },
    {
      "cell_type": "code",
      "source": [
        "s = \"pwskills\"\n",
        "a = iter(s)\n",
        "a"
      ],
      "metadata": {
        "colab": {
          "base_uri": "https://localhost:8080/"
        },
        "id": "WYDzHZstS3n9",
        "outputId": "f05ddf27-52aa-410f-820d-fe10d3dd8193"
      },
      "execution_count": null,
      "outputs": [
        {
          "output_type": "execute_result",
          "data": {
            "text/plain": [
              "<str_ascii_iterator at 0x7d03ee2a8070>"
            ]
          },
          "metadata": {},
          "execution_count": 14
        }
      ]
    },
    {
      "cell_type": "code",
      "source": [
        "next(a)"
      ],
      "metadata": {
        "colab": {
          "base_uri": "https://localhost:8080/",
          "height": 35
        },
        "id": "1Jj95-KlTCD-",
        "outputId": "2a7591e2-8440-433c-9945-2d60bd75e7ec"
      },
      "execution_count": null,
      "outputs": [
        {
          "output_type": "execute_result",
          "data": {
            "text/plain": [
              "'p'"
            ],
            "application/vnd.google.colaboratory.intrinsic+json": {
              "type": "string"
            }
          },
          "metadata": {},
          "execution_count": 15
        }
      ]
    },
    {
      "cell_type": "code",
      "source": [
        "next(a)"
      ],
      "metadata": {
        "colab": {
          "base_uri": "https://localhost:8080/",
          "height": 35
        },
        "id": "LWPDL0WXXNC8",
        "outputId": "939affd4-21ab-4588-e3e4-22b9aad04723"
      },
      "execution_count": null,
      "outputs": [
        {
          "output_type": "execute_result",
          "data": {
            "text/plain": [
              "'w'"
            ],
            "application/vnd.google.colaboratory.intrinsic+json": {
              "type": "string"
            }
          },
          "metadata": {},
          "execution_count": 16
        }
      ]
    },
    {
      "cell_type": "code",
      "source": [
        "next(a)"
      ],
      "metadata": {
        "colab": {
          "base_uri": "https://localhost:8080/",
          "height": 35
        },
        "id": "6XiVTWruXObt",
        "outputId": "ab486a6d-d401-47e3-c6c9-a97948c2feca"
      },
      "execution_count": null,
      "outputs": [
        {
          "output_type": "execute_result",
          "data": {
            "text/plain": [
              "'s'"
            ],
            "application/vnd.google.colaboratory.intrinsic+json": {
              "type": "string"
            }
          },
          "metadata": {},
          "execution_count": 17
        }
      ]
    },
    {
      "cell_type": "code",
      "source": [
        "next(a) # We can iterate s until it have no element remaining upto 'l' then 's'\n",
        "# after 's' it will give error"
      ],
      "metadata": {
        "colab": {
          "base_uri": "https://localhost:8080/",
          "height": 35
        },
        "id": "rR5vqv-MXSWT",
        "outputId": "a02ff919-e694-42a6-cd79-8dc02e3adda3"
      },
      "execution_count": null,
      "outputs": [
        {
          "output_type": "execute_result",
          "data": {
            "text/plain": [
              "'i'"
            ],
            "application/vnd.google.colaboratory.intrinsic+json": {
              "type": "string"
            }
          },
          "metadata": {},
          "execution_count": 19
        }
      ]
    },
    {
      "cell_type": "markdown",
      "source": [
        "6. Explain the concept of generators in Python and how they are defined."
      ],
      "metadata": {
        "id": "4mfkN765Xtro"
      }
    },
    {
      "cell_type": "markdown",
      "source": [
        "**Answer :-** Generators are a simple way to create iterators using functions and the yield keyword instead of returning values.\n",
        "\n",
        "It is defined like a function but here we use yield keyword instead of return as shown in example:"
      ],
      "metadata": {
        "id": "ytbP08-olMOb"
      }
    },
    {
      "cell_type": "code",
      "source": [
        "def square_generator(n):\n",
        "  for i in range(n):\n",
        "    yield i**2\n",
        "\n",
        "gen = square_generator(5)\n",
        "gen"
      ],
      "metadata": {
        "id": "UeVYGXpCXXOz",
        "colab": {
          "base_uri": "https://localhost:8080/"
        },
        "outputId": "e1bfcc63-a5f2-4941-8549-fafbbdd78cc7"
      },
      "execution_count": null,
      "outputs": [
        {
          "output_type": "execute_result",
          "data": {
            "text/plain": [
              "<generator object square_generator at 0x7f84a7f1b1d0>"
            ]
          },
          "metadata": {},
          "execution_count": 3
        }
      ]
    },
    {
      "cell_type": "code",
      "source": [
        "next(gen)"
      ],
      "metadata": {
        "colab": {
          "base_uri": "https://localhost:8080/"
        },
        "id": "JDgwN4g3Zo7v",
        "outputId": "4a77e98b-d26e-47fe-b36a-35d98181fa66"
      },
      "execution_count": null,
      "outputs": [
        {
          "output_type": "execute_result",
          "data": {
            "text/plain": [
              "0"
            ]
          },
          "metadata": {},
          "execution_count": 4
        }
      ]
    },
    {
      "cell_type": "code",
      "source": [
        "next(gen)"
      ],
      "metadata": {
        "colab": {
          "base_uri": "https://localhost:8080/"
        },
        "id": "8bEMySCwZ3aa",
        "outputId": "2bb3c2c7-8b19-4132-cfa2-8cd930d6555c"
      },
      "execution_count": null,
      "outputs": [
        {
          "output_type": "execute_result",
          "data": {
            "text/plain": [
              "1"
            ]
          },
          "metadata": {},
          "execution_count": 5
        }
      ]
    },
    {
      "cell_type": "code",
      "source": [
        "next(gen)"
      ],
      "metadata": {
        "colab": {
          "base_uri": "https://localhost:8080/"
        },
        "id": "V6S1EGWhZ6Kt",
        "outputId": "77bb165a-7796-43f2-e92c-950c12865e3c"
      },
      "execution_count": null,
      "outputs": [
        {
          "output_type": "execute_result",
          "data": {
            "text/plain": [
              "4"
            ]
          },
          "metadata": {},
          "execution_count": 6
        }
      ]
    },
    {
      "cell_type": "code",
      "source": [
        "next(gen)"
      ],
      "metadata": {
        "colab": {
          "base_uri": "https://localhost:8080/"
        },
        "id": "sSGRSNPdZ88c",
        "outputId": "387138d6-bb0e-4855-c9dc-59924ba42f1a"
      },
      "execution_count": null,
      "outputs": [
        {
          "output_type": "execute_result",
          "data": {
            "text/plain": [
              "9"
            ]
          },
          "metadata": {},
          "execution_count": 7
        }
      ]
    },
    {
      "cell_type": "code",
      "source": [
        "next(gen)"
      ],
      "metadata": {
        "colab": {
          "base_uri": "https://localhost:8080/"
        },
        "id": "cqwqQmpfZ_W2",
        "outputId": "0811fa42-1173-4fe8-c2da-c7fe11b5e6d6"
      },
      "execution_count": null,
      "outputs": [
        {
          "output_type": "execute_result",
          "data": {
            "text/plain": [
              "16"
            ]
          },
          "metadata": {},
          "execution_count": 8
        }
      ]
    },
    {
      "cell_type": "code",
      "source": [
        "next(gen) # It will give error because we have passes 5 therefore it will generate the square of numer 1 to 4 one by one"
      ],
      "metadata": {
        "colab": {
          "base_uri": "https://localhost:8080/",
          "height": 141
        },
        "id": "mYrMxWudaElh",
        "outputId": "930acc99-961a-4a5e-f154-65e7fcaf17d9"
      },
      "execution_count": null,
      "outputs": [
        {
          "output_type": "error",
          "ename": "StopIteration",
          "evalue": "",
          "traceback": [
            "\u001b[0;31m---------------------------------------------------------------------------\u001b[0m",
            "\u001b[0;31mStopIteration\u001b[0m                             Traceback (most recent call last)",
            "\u001b[0;32m<ipython-input-10-a505a0f92540>\u001b[0m in \u001b[0;36m<cell line: 0>\u001b[0;34m()\u001b[0m\n\u001b[0;32m----> 1\u001b[0;31m \u001b[0mnext\u001b[0m\u001b[0;34m(\u001b[0m\u001b[0mgen\u001b[0m\u001b[0;34m)\u001b[0m \u001b[0;31m# It will give error because we have passes 5 therefore it will generate the square of numer 1 to 4 one by one\u001b[0m\u001b[0;34m\u001b[0m\u001b[0;34m\u001b[0m\u001b[0m\n\u001b[0m",
            "\u001b[0;31mStopIteration\u001b[0m: "
          ]
        }
      ]
    },
    {
      "cell_type": "markdown",
      "source": [
        "7. What are the advantages of using generators over regular functions?"
      ],
      "metadata": {
        "id": "vqJ5ScCKaj5N"
      }
    },
    {
      "cell_type": "markdown",
      "source": [
        "**Answer:-** There are various advantages of using generator functions over the regular function let us discuss :\n",
        "\n",
        "\n",
        "\n",
        "*   Regular function returns the values in one go as it returns  a collection of values in list or other therefore take a lot of memory whereas a generator function returns the values one by one as it produce item one at a time using yield statement therefore it take less memory as comparison to normal function.\n",
        "*   Regular function also take more time than generator function because doing all computation in one go but generator function take less time as it do calculations one by one .\n",
        "\n",
        "*   Generators produce values one at a time and only when required, avoiding the need to generate or store all values upfront.\n",
        "*   Since generators do not  build the whole output at once, they can be faster in cases where you are only consuming part of the data.\n",
        "\n",
        "\n",
        "\n"
      ],
      "metadata": {
        "id": "Wa1vOuWFapSA"
      }
    },
    {
      "cell_type": "code",
      "source": [
        "# Example of fibanacci series\n",
        "def fib(n):\n",
        "  a = 0\n",
        "  b = 1\n",
        "  for i in range(n):\n",
        "    yield a\n",
        "    a,b = b,a+b\n",
        "\n",
        "fib_gen = fib(5)\n",
        "fib_gen"
      ],
      "metadata": {
        "colab": {
          "base_uri": "https://localhost:8080/"
        },
        "id": "L9vtz1FNaFoH",
        "outputId": "e0980fdc-869a-4a8b-972c-da44467e972e"
      },
      "execution_count": null,
      "outputs": [
        {
          "output_type": "execute_result",
          "data": {
            "text/plain": [
              "<generator object fib at 0x7f8479d31e40>"
            ]
          },
          "metadata": {},
          "execution_count": 11
        }
      ]
    },
    {
      "cell_type": "code",
      "source": [
        "next(fib_gen)"
      ],
      "metadata": {
        "colab": {
          "base_uri": "https://localhost:8080/"
        },
        "id": "6PucCbUJfgso",
        "outputId": "722e39b1-e5f8-4e32-bdd8-587ac4489d90"
      },
      "execution_count": null,
      "outputs": [
        {
          "output_type": "execute_result",
          "data": {
            "text/plain": [
              "0"
            ]
          },
          "metadata": {},
          "execution_count": 12
        }
      ]
    },
    {
      "cell_type": "code",
      "source": [
        "next(fib_gen)"
      ],
      "metadata": {
        "colab": {
          "base_uri": "https://localhost:8080/"
        },
        "id": "ocJ8l8MrfihA",
        "outputId": "1a6fb799-6b18-4d36-94cd-1b96212feb05"
      },
      "execution_count": null,
      "outputs": [
        {
          "output_type": "execute_result",
          "data": {
            "text/plain": [
              "1"
            ]
          },
          "metadata": {},
          "execution_count": 13
        }
      ]
    },
    {
      "cell_type": "code",
      "source": [
        "next(fib_gen)"
      ],
      "metadata": {
        "colab": {
          "base_uri": "https://localhost:8080/"
        },
        "id": "7mVQY7qDfkf9",
        "outputId": "fa9fe945-2762-4b17-dbb7-a5d4e94da6cd"
      },
      "execution_count": null,
      "outputs": [
        {
          "output_type": "execute_result",
          "data": {
            "text/plain": [
              "1"
            ]
          },
          "metadata": {},
          "execution_count": 15
        }
      ]
    },
    {
      "cell_type": "code",
      "source": [
        "next(fib_gen)"
      ],
      "metadata": {
        "colab": {
          "base_uri": "https://localhost:8080/"
        },
        "id": "9a7fJneAfmpZ",
        "outputId": "6ec98de0-574c-4364-8e2b-62927d5b87c3"
      },
      "execution_count": null,
      "outputs": [
        {
          "output_type": "execute_result",
          "data": {
            "text/plain": [
              "2"
            ]
          },
          "metadata": {},
          "execution_count": 16
        }
      ]
    },
    {
      "cell_type": "code",
      "source": [
        "# fibonacci series using regular functions\n",
        "def fibonacci_list(n):\n",
        "    fib = []\n",
        "    a, b = 0, 1\n",
        "    for _ in range(n):\n",
        "        fib.append(a)\n",
        "        a, b = b, a + b\n",
        "    return fib\n",
        "\n",
        "# returns all sequence upto 10th in one go:\n",
        "print(fibonacci_list(10))\n"
      ],
      "metadata": {
        "colab": {
          "base_uri": "https://localhost:8080/"
        },
        "id": "1_43bZaMfvFX",
        "outputId": "d0ef2388-1236-4a2e-876d-7deb9f0bd326"
      },
      "execution_count": null,
      "outputs": [
        {
          "output_type": "stream",
          "name": "stdout",
          "text": [
            "[0, 1, 1, 2, 3, 5, 8, 13, 21, 34]\n"
          ]
        }
      ]
    },
    {
      "cell_type": "markdown",
      "source": [
        "8. What is a lambda function in Python and when is it typically used?"
      ],
      "metadata": {
        "id": "GOZHI7ARgOZn"
      }
    },
    {
      "cell_type": "markdown",
      "source": [
        "**Answer:-** Lambda function are the smallest ,shorthand anonymous function defined using the lambda keyword.They are used for creating small throwaway function without the need of formally define a function using def.\n",
        "\n",
        "It is used when:\n",
        "\n",
        "\n",
        "*   For small, one time use function.\n",
        "*   While writing compact code(inline operation)\n",
        "*   Inside higher order functions like map,reduce,filter etc.\n",
        "\n",
        "example:\n",
        "\n"
      ],
      "metadata": {
        "id": "HUT3m9lpgW0y"
      }
    },
    {
      "cell_type": "code",
      "source": [
        "#we have to calculaate square using lambda function\n",
        "square =  lambda x: x**2\n",
        "square(44)\n"
      ],
      "metadata": {
        "colab": {
          "base_uri": "https://localhost:8080/"
        },
        "id": "CQ_JkY2-gBky",
        "outputId": "1713ced6-c0aa-4d64-e241-2ddfd32956fa"
      },
      "execution_count": null,
      "outputs": [
        {
          "output_type": "execute_result",
          "data": {
            "text/plain": [
              "1936"
            ]
          },
          "metadata": {},
          "execution_count": 24
        }
      ]
    },
    {
      "cell_type": "markdown",
      "source": [
        "9. Explain the purpose and usage of the `map()` function in Python."
      ],
      "metadata": {
        "id": "puUpWUrCk_hO"
      }
    },
    {
      "cell_type": "markdown",
      "source": [
        "**Answer:-** The map function applies a given  function to all items in an input iterable (like a list) and returns an iterator with the results.\n",
        "\n",
        "It is used to transform each item in the iterable by applying the specified function.\n",
        "\n",
        "syntax - map(function,iterable).\n"
      ],
      "metadata": {
        "id": "GBYdUpWnltSd"
      }
    },
    {
      "cell_type": "code",
      "source": [
        "number = [5,7,9,11]\n",
        "squares = map(lambda x: x * x, number)\n",
        "print(list(squares))"
      ],
      "metadata": {
        "colab": {
          "base_uri": "https://localhost:8080/"
        },
        "id": "GOlm6EYwjdHt",
        "outputId": "ed66a1ee-f274-4f63-96fc-e4ec18ca4e71"
      },
      "execution_count": null,
      "outputs": [
        {
          "output_type": "stream",
          "name": "stdout",
          "text": [
            "[25, 49, 81, 121]\n"
          ]
        }
      ]
    },
    {
      "cell_type": "markdown",
      "source": [
        "10. What is the difference between `map()`, `reduce()`, and `filter()` functions in Python?"
      ],
      "metadata": {
        "id": "iV4En-aKn5ci"
      }
    },
    {
      "cell_type": "markdown",
      "source": [
        "**Answer :-** The purpose of map() function is to transform each item in the iterable by applying specified function.\n",
        "\n",
        "A map function object (iterator) with the same nuber of elements.\n",
        "\n",
        "syntax - map(function , iterable)"
      ],
      "metadata": {
        "id": "MbM3UIjToCf1"
      }
    },
    {
      "cell_type": "code",
      "source": [
        "nums = [1,2,3,4]\n",
        "squared = map(lambda x: x * x,nums)\n",
        "print(list(squared))"
      ],
      "metadata": {
        "colab": {
          "base_uri": "https://localhost:8080/"
        },
        "id": "qNKret1epZ7Y",
        "outputId": "2002dac0-8fa8-4429-8b3e-a1aac4baae82"
      },
      "execution_count": null,
      "outputs": [
        {
          "output_type": "stream",
          "name": "stdout",
          "text": [
            "[1, 4, 9, 16]\n"
          ]
        }
      ]
    },
    {
      "cell_type": "markdown",
      "source": [
        "Reduce() function from the functool module applies a given function cumulatively to the items of the sequence , from left to right, to reduce the sequence to a single value.\n",
        "\n",
        "It reduces an iterable to a single cumulative value by applying the function cumulatively.\n",
        "\n",
        "syntax - reduce(function , iterable)"
      ],
      "metadata": {
        "id": "4paEgh4wpwuR"
      }
    },
    {
      "cell_type": "code",
      "source": [
        "from functools import reduce\n",
        "l = [2,1,3,5,3,3,5,2,8,9]\n",
        "reduce(lambda x,y: x+y,l)"
      ],
      "metadata": {
        "colab": {
          "base_uri": "https://localhost:8080/"
        },
        "id": "IQA9wsw-psBq",
        "outputId": "3b880607-f442-47ae-b953-53302c1c46ec"
      },
      "execution_count": null,
      "outputs": [
        {
          "output_type": "execute_result",
          "data": {
            "text/plain": [
              "41"
            ]
          },
          "metadata": {},
          "execution_count": 4
        }
      ]
    },
    {
      "cell_type": "markdown",
      "source": [
        "Filter() function constructs an iterator from elements to an iterable for which a specified function returns True.\n",
        "\n",
        "It is used for filtering elements from an iterable based on a condition defined by the function.\n",
        "\n",
        "syntax(function , iterable)"
      ],
      "metadata": {
        "id": "l-HRFCb_raL-"
      }
    },
    {
      "cell_type": "code",
      "source": [
        "numbers = [1,2,3,4,5]\n",
        "even = filter(lambda x : x % 2 == 0 , numbers)\n",
        "print(list(even))"
      ],
      "metadata": {
        "colab": {
          "base_uri": "https://localhost:8080/"
        },
        "id": "zRBsZ7EvrYyl",
        "outputId": "dc288bb4-07c0-4ebb-90a1-e3ae9d7d1ff1"
      },
      "execution_count": null,
      "outputs": [
        {
          "output_type": "stream",
          "name": "stdout",
          "text": [
            "[2, 4]\n"
          ]
        }
      ]
    },
    {
      "cell_type": "markdown",
      "source": [
        "11.Using pen & Paper write the internal mechanism for sum operation using  reduce function on this given\n",
        "\n",
        "list:[47,11,42,13];"
      ],
      "metadata": {
        "id": "g9JNxK3shWzP"
      }
    },
    {
      "cell_type": "markdown",
      "source": [
        "![mech.jpg](data:image/jpeg;base64,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)"
      ],
      "metadata": {
        "id": "-tJ7lIu2lk7n"
      }
    },
    {
      "cell_type": "markdown",
      "source": [
        "# Practical Questions:-"
      ],
      "metadata": {
        "id": "lyFq2PlBmN_h"
      }
    },
    {
      "cell_type": "markdown",
      "source": [
        "1. Write a Python function that takes a list of numbers as input and returns the sum of all even numbers in\n",
        "the list."
      ],
      "metadata": {
        "id": "jmdPxZhtmViW"
      }
    },
    {
      "cell_type": "code",
      "source": [
        "def sumEven(num):\n",
        "  sum = 0\n",
        "  for i in num:\n",
        "    if i%2 == 0:\n",
        "      sum = sum + i\n",
        "\n",
        "  print(\"The sum of given numbers :\" , sum)\n",
        "\n",
        "numbers = [23,45,64,12,24,80]\n",
        "sumEven(numbers)"
      ],
      "metadata": {
        "id": "9oWK2-HKtOc-",
        "colab": {
          "base_uri": "https://localhost:8080/"
        },
        "outputId": "a5e0f9c4-d09d-4216-ff6a-998c3d455244"
      },
      "execution_count": 4,
      "outputs": [
        {
          "output_type": "stream",
          "name": "stdout",
          "text": [
            "The sum of given numbers : 180\n"
          ]
        }
      ]
    },
    {
      "cell_type": "markdown",
      "source": [
        "2.Create a Python function that accepts a string and returns the reverse of that string."
      ],
      "metadata": {
        "id": "brvBeYnboZBk"
      }
    },
    {
      "cell_type": "code",
      "source": [
        "def reverse(str):\n",
        "  return str[::-1]\n",
        "\n",
        "name = \"Yash\"\n",
        "print(reverse(name))"
      ],
      "metadata": {
        "colab": {
          "base_uri": "https://localhost:8080/"
        },
        "id": "-JKWsC3tnqPk",
        "outputId": "b31ec2cb-31ae-4e1e-964b-235ff6b40b28"
      },
      "execution_count": 5,
      "outputs": [
        {
          "output_type": "stream",
          "name": "stdout",
          "text": [
            "hsaY\n"
          ]
        }
      ]
    },
    {
      "cell_type": "code",
      "source": [
        "s2 = \"Hello Welcome\"\n",
        "print(reverse(s2))"
      ],
      "metadata": {
        "colab": {
          "base_uri": "https://localhost:8080/"
        },
        "id": "52BYSd7Go3Gd",
        "outputId": "f0e9d49b-01a4-4d20-8726-85bd9362f8d3"
      },
      "execution_count": 6,
      "outputs": [
        {
          "output_type": "stream",
          "name": "stdout",
          "text": [
            "emocleW olleH\n"
          ]
        }
      ]
    },
    {
      "cell_type": "markdown",
      "source": [
        "3.Implement a Python function that takes a list of integers and returns a new list containing the squares of\n",
        "each number."
      ],
      "metadata": {
        "id": "WjqZjYhIpWWl"
      }
    },
    {
      "cell_type": "code",
      "source": [
        "def square(nums):\n",
        "  squared = []\n",
        "  for i in nums:\n",
        "    squared.append(i * i)\n",
        "\n",
        "  return squared\n",
        "\n",
        "pos = [11,12,13,14,15]\n",
        "square(pos)"
      ],
      "metadata": {
        "colab": {
          "base_uri": "https://localhost:8080/"
        },
        "id": "gSUMTJWjpVKg",
        "outputId": "3f97e9eb-ed01-49ef-9b6b-0e7f803d1ea9"
      },
      "execution_count": 8,
      "outputs": [
        {
          "output_type": "execute_result",
          "data": {
            "text/plain": [
              "[121, 144, 169, 196, 225]"
            ]
          },
          "metadata": {},
          "execution_count": 8
        }
      ]
    },
    {
      "cell_type": "markdown",
      "source": [
        "4. Write a Python function that checks if a given number is prime or not from 1 to 200.\n"
      ],
      "metadata": {
        "id": "mVX02YhjqpHt"
      }
    },
    {
      "cell_type": "code",
      "source": [
        "def checkPrime(n):\n",
        "  if n < 2:\n",
        "    return False\n",
        "  for i in range(2,n):\n",
        "    if n % i == 0:\n",
        "      return False\n",
        "  return True\n",
        "\n",
        "checkPrime(7)\n",
        "\n"
      ],
      "metadata": {
        "colab": {
          "base_uri": "https://localhost:8080/"
        },
        "id": "fZVNHsDYqh7n",
        "outputId": "a4871125-0c98-43e5-e637-25db3a8add84"
      },
      "execution_count": 10,
      "outputs": [
        {
          "output_type": "execute_result",
          "data": {
            "text/plain": [
              "True"
            ]
          },
          "metadata": {},
          "execution_count": 10
        }
      ]
    },
    {
      "cell_type": "code",
      "source": [
        "checkPrime(79)"
      ],
      "metadata": {
        "colab": {
          "base_uri": "https://localhost:8080/"
        },
        "id": "MwYk6Z3CsomF",
        "outputId": "d5313f50-da0a-4a93-ff41-21b93adaa5fd"
      },
      "execution_count": 11,
      "outputs": [
        {
          "output_type": "execute_result",
          "data": {
            "text/plain": [
              "True"
            ]
          },
          "metadata": {},
          "execution_count": 11
        }
      ]
    },
    {
      "cell_type": "code",
      "source": [
        "checkPrime(150)"
      ],
      "metadata": {
        "colab": {
          "base_uri": "https://localhost:8080/"
        },
        "id": "uXijig_Kss5F",
        "outputId": "9b52a369-931e-49dd-a098-1c09b86386a4"
      },
      "execution_count": 12,
      "outputs": [
        {
          "output_type": "execute_result",
          "data": {
            "text/plain": [
              "False"
            ]
          },
          "metadata": {},
          "execution_count": 12
        }
      ]
    },
    {
      "cell_type": "code",
      "source": [
        "checkPrime(199)"
      ],
      "metadata": {
        "colab": {
          "base_uri": "https://localhost:8080/"
        },
        "id": "vDDhzdUss2Bh",
        "outputId": "c796633b-7a2c-40a8-eec0-29452aa2e5ff"
      },
      "execution_count": 13,
      "outputs": [
        {
          "output_type": "execute_result",
          "data": {
            "text/plain": [
              "True"
            ]
          },
          "metadata": {},
          "execution_count": 13
        }
      ]
    },
    {
      "cell_type": "markdown",
      "source": [
        "5.Create an iterator class in Python that generates the Fibonacci sequence up to a specified number of\n",
        "terms."
      ],
      "metadata": {
        "id": "kqXyEgi5s8rQ"
      }
    },
    {
      "cell_type": "code",
      "source": [
        "class FibonacciIterator:\n",
        "    def __init__(self, max_terms):\n",
        "        self.max_terms = max_terms\n",
        "        self.n1, self.n2 = 0, 1\n",
        "        self.count = 0\n",
        "\n",
        "    def __iter__(self):\n",
        "        return self  # An iterator must return itself\n",
        "\n",
        "    def __next__(self):\n",
        "        if self.count >= self.max_terms:\n",
        "            raise StopIteration\n",
        "        if self.count == 0:\n",
        "            self.count += 1\n",
        "            return self.n1\n",
        "        elif self.count == 1:\n",
        "            self.count += 1\n",
        "            return self.n2\n",
        "        else:\n",
        "            next_fib = self.n1 + self.n2\n",
        "            self.n1, self.n2 = self.n2, next_fib\n",
        "            self.count += 1\n",
        "            return next_fib\n"
      ],
      "metadata": {
        "id": "1p9Zk9tms6Cw"
      },
      "execution_count": 14,
      "outputs": []
    },
    {
      "cell_type": "code",
      "source": [
        "fib = FibonacciIterator(15)\n",
        "for i in fib:\n",
        "  print(i,end = \" \")"
      ],
      "metadata": {
        "colab": {
          "base_uri": "https://localhost:8080/"
        },
        "id": "0g4UP5ugvW-e",
        "outputId": "0ad8dd06-e3fe-456d-8c0e-c83f37345450"
      },
      "execution_count": 15,
      "outputs": [
        {
          "output_type": "stream",
          "name": "stdout",
          "text": [
            "0 1 1 2 3 5 8 13 21 34 55 89 144 233 377 "
          ]
        }
      ]
    },
    {
      "cell_type": "markdown",
      "source": [
        "6. Write a generator function in Python that yields the powers of 2 up to a given exponent."
      ],
      "metadata": {
        "id": "VxZpJ5pEvui7"
      }
    },
    {
      "cell_type": "code",
      "source": [
        "def exponentGenerator(n):\n",
        "  for i in range(n+1):\n",
        "    yield 2 ** i\n",
        "\n",
        "\n",
        "expo = exponentGenerator(5)\n",
        "expo"
      ],
      "metadata": {
        "colab": {
          "base_uri": "https://localhost:8080/"
        },
        "id": "Do5FLQkNvl9U",
        "outputId": "dc9b3408-c183-4960-d77b-b87aea2c1597"
      },
      "execution_count": 27,
      "outputs": [
        {
          "output_type": "execute_result",
          "data": {
            "text/plain": [
              "<generator object exponentGenerator at 0x785b5192a5e0>"
            ]
          },
          "metadata": {},
          "execution_count": 27
        }
      ]
    },
    {
      "cell_type": "code",
      "source": [
        "next(expo)"
      ],
      "metadata": {
        "colab": {
          "base_uri": "https://localhost:8080/"
        },
        "id": "uA3vLehUxQ5T",
        "outputId": "487018af-5cf5-4e2c-fc17-e2823ccdd2e0"
      },
      "execution_count": 28,
      "outputs": [
        {
          "output_type": "execute_result",
          "data": {
            "text/plain": [
              "1"
            ]
          },
          "metadata": {},
          "execution_count": 28
        }
      ]
    },
    {
      "cell_type": "code",
      "source": [
        "next(expo)\n"
      ],
      "metadata": {
        "colab": {
          "base_uri": "https://localhost:8080/"
        },
        "id": "rWh8VlPWxWcG",
        "outputId": "3b9f3a39-27b7-4628-c042-aeddf6386e7d"
      },
      "execution_count": 29,
      "outputs": [
        {
          "output_type": "execute_result",
          "data": {
            "text/plain": [
              "2"
            ]
          },
          "metadata": {},
          "execution_count": 29
        }
      ]
    },
    {
      "cell_type": "code",
      "source": [
        "next(expo)"
      ],
      "metadata": {
        "colab": {
          "base_uri": "https://localhost:8080/"
        },
        "id": "tfBB64FLxdTv",
        "outputId": "5dab5fc0-fd03-42ab-ecd6-fbea840543b8"
      },
      "execution_count": 30,
      "outputs": [
        {
          "output_type": "execute_result",
          "data": {
            "text/plain": [
              "4"
            ]
          },
          "metadata": {},
          "execution_count": 30
        }
      ]
    },
    {
      "cell_type": "code",
      "source": [
        "next(expo)"
      ],
      "metadata": {
        "colab": {
          "base_uri": "https://localhost:8080/"
        },
        "id": "5Hm6J6Jfxd0L",
        "outputId": "b1c7c5be-2af5-44e8-9e00-894e4a37b075"
      },
      "execution_count": 31,
      "outputs": [
        {
          "output_type": "execute_result",
          "data": {
            "text/plain": [
              "8"
            ]
          },
          "metadata": {},
          "execution_count": 31
        }
      ]
    },
    {
      "cell_type": "code",
      "source": [
        "next(expo)"
      ],
      "metadata": {
        "colab": {
          "base_uri": "https://localhost:8080/"
        },
        "id": "kQnlN-W8xeMm",
        "outputId": "61cd1d7f-8b88-4f89-ed8c-1529c7535d85"
      },
      "execution_count": 32,
      "outputs": [
        {
          "output_type": "execute_result",
          "data": {
            "text/plain": [
              "16"
            ]
          },
          "metadata": {},
          "execution_count": 32
        }
      ]
    },
    {
      "cell_type": "code",
      "source": [
        "next(expo)"
      ],
      "metadata": {
        "colab": {
          "base_uri": "https://localhost:8080/"
        },
        "id": "FomsQ_lDxeoV",
        "outputId": "36b7f7f2-2355-4f0f-f0f4-89b4ec9411d1"
      },
      "execution_count": 33,
      "outputs": [
        {
          "output_type": "execute_result",
          "data": {
            "text/plain": [
              "32"
            ]
          },
          "metadata": {},
          "execution_count": 33
        }
      ]
    },
    {
      "cell_type": "code",
      "source": [
        "next(expo)"
      ],
      "metadata": {
        "colab": {
          "base_uri": "https://localhost:8080/",
          "height": 141
        },
        "id": "d0sBLmynxfU0",
        "outputId": "8264ba7d-715b-477f-ee46-a43cfb9bcc15"
      },
      "execution_count": 34,
      "outputs": [
        {
          "output_type": "error",
          "ename": "StopIteration",
          "evalue": "",
          "traceback": [
            "\u001b[0;31m---------------------------------------------------------------------------\u001b[0m",
            "\u001b[0;31mStopIteration\u001b[0m                             Traceback (most recent call last)",
            "\u001b[0;32m<ipython-input-34-8ea6f8c622d5>\u001b[0m in \u001b[0;36m<cell line: 0>\u001b[0;34m()\u001b[0m\n\u001b[0;32m----> 1\u001b[0;31m \u001b[0mnext\u001b[0m\u001b[0;34m(\u001b[0m\u001b[0mexpo\u001b[0m\u001b[0;34m)\u001b[0m\u001b[0;34m\u001b[0m\u001b[0;34m\u001b[0m\u001b[0m\n\u001b[0m",
            "\u001b[0;31mStopIteration\u001b[0m: "
          ]
        }
      ]
    },
    {
      "cell_type": "markdown",
      "source": [
        "7. Implement a generator function that reads a file line by line and yields each line as a string."
      ],
      "metadata": {
        "id": "mH_Mo-ynxt1H"
      }
    },
    {
      "cell_type": "code",
      "source": [
        "from google.colab import files\n",
        "uploaded = files.upload()\n",
        "\n",
        "def read_file_line_by_line(file_path):\n",
        "    with open(file_path, 'r') as file:\n",
        "        for line in file:\n",
        "            yield line.strip()\n",
        "\n",
        "for line in read_file_line_by_line(\"example.txt\"):\n",
        "    print(line)\n"
      ],
      "metadata": {
        "colab": {
          "base_uri": "https://localhost:8080/",
          "height": 107
        },
        "id": "9nTubCMJxs56",
        "outputId": "d5044e70-9bf1-4613-9e54-5232c8fd94a6"
      },
      "execution_count": 41,
      "outputs": [
        {
          "output_type": "display_data",
          "data": {
            "text/plain": [
              "<IPython.core.display.HTML object>"
            ],
            "text/html": [
              "\n",
              "     <input type=\"file\" id=\"files-34a54090-2a8a-4cce-ac48-8989e26cab79\" name=\"files[]\" multiple disabled\n",
              "        style=\"border:none\" />\n",
              "     <output id=\"result-34a54090-2a8a-4cce-ac48-8989e26cab79\">\n",
              "      Upload widget is only available when the cell has been executed in the\n",
              "      current browser session. Please rerun this cell to enable.\n",
              "      </output>\n",
              "      <script>// Copyright 2017 Google LLC\n",
              "//\n",
              "// Licensed under the Apache License, Version 2.0 (the \"License\");\n",
              "// you may not use this file except in compliance with the License.\n",
              "// You may obtain a copy of the License at\n",
              "//\n",
              "//      http://www.apache.org/licenses/LICENSE-2.0\n",
              "//\n",
              "// Unless required by applicable law or agreed to in writing, software\n",
              "// distributed under the License is distributed on an \"AS IS\" BASIS,\n",
              "// WITHOUT WARRANTIES OR CONDITIONS OF ANY KIND, either express or implied.\n",
              "// See the License for the specific language governing permissions and\n",
              "// limitations under the License.\n",
              "\n",
              "/**\n",
              " * @fileoverview Helpers for google.colab Python module.\n",
              " */\n",
              "(function(scope) {\n",
              "function span(text, styleAttributes = {}) {\n",
              "  const element = document.createElement('span');\n",
              "  element.textContent = text;\n",
              "  for (const key of Object.keys(styleAttributes)) {\n",
              "    element.style[key] = styleAttributes[key];\n",
              "  }\n",
              "  return element;\n",
              "}\n",
              "\n",
              "// Max number of bytes which will be uploaded at a time.\n",
              "const MAX_PAYLOAD_SIZE = 100 * 1024;\n",
              "\n",
              "function _uploadFiles(inputId, outputId) {\n",
              "  const steps = uploadFilesStep(inputId, outputId);\n",
              "  const outputElement = document.getElementById(outputId);\n",
              "  // Cache steps on the outputElement to make it available for the next call\n",
              "  // to uploadFilesContinue from Python.\n",
              "  outputElement.steps = steps;\n",
              "\n",
              "  return _uploadFilesContinue(outputId);\n",
              "}\n",
              "\n",
              "// This is roughly an async generator (not supported in the browser yet),\n",
              "// where there are multiple asynchronous steps and the Python side is going\n",
              "// to poll for completion of each step.\n",
              "// This uses a Promise to block the python side on completion of each step,\n",
              "// then passes the result of the previous step as the input to the next step.\n",
              "function _uploadFilesContinue(outputId) {\n",
              "  const outputElement = document.getElementById(outputId);\n",
              "  const steps = outputElement.steps;\n",
              "\n",
              "  const next = steps.next(outputElement.lastPromiseValue);\n",
              "  return Promise.resolve(next.value.promise).then((value) => {\n",
              "    // Cache the last promise value to make it available to the next\n",
              "    // step of the generator.\n",
              "    outputElement.lastPromiseValue = value;\n",
              "    return next.value.response;\n",
              "  });\n",
              "}\n",
              "\n",
              "/**\n",
              " * Generator function which is called between each async step of the upload\n",
              " * process.\n",
              " * @param {string} inputId Element ID of the input file picker element.\n",
              " * @param {string} outputId Element ID of the output display.\n",
              " * @return {!Iterable<!Object>} Iterable of next steps.\n",
              " */\n",
              "function* uploadFilesStep(inputId, outputId) {\n",
              "  const inputElement = document.getElementById(inputId);\n",
              "  inputElement.disabled = false;\n",
              "\n",
              "  const outputElement = document.getElementById(outputId);\n",
              "  outputElement.innerHTML = '';\n",
              "\n",
              "  const pickedPromise = new Promise((resolve) => {\n",
              "    inputElement.addEventListener('change', (e) => {\n",
              "      resolve(e.target.files);\n",
              "    });\n",
              "  });\n",
              "\n",
              "  const cancel = document.createElement('button');\n",
              "  inputElement.parentElement.appendChild(cancel);\n",
              "  cancel.textContent = 'Cancel upload';\n",
              "  const cancelPromise = new Promise((resolve) => {\n",
              "    cancel.onclick = () => {\n",
              "      resolve(null);\n",
              "    };\n",
              "  });\n",
              "\n",
              "  // Wait for the user to pick the files.\n",
              "  const files = yield {\n",
              "    promise: Promise.race([pickedPromise, cancelPromise]),\n",
              "    response: {\n",
              "      action: 'starting',\n",
              "    }\n",
              "  };\n",
              "\n",
              "  cancel.remove();\n",
              "\n",
              "  // Disable the input element since further picks are not allowed.\n",
              "  inputElement.disabled = true;\n",
              "\n",
              "  if (!files) {\n",
              "    return {\n",
              "      response: {\n",
              "        action: 'complete',\n",
              "      }\n",
              "    };\n",
              "  }\n",
              "\n",
              "  for (const file of files) {\n",
              "    const li = document.createElement('li');\n",
              "    li.append(span(file.name, {fontWeight: 'bold'}));\n",
              "    li.append(span(\n",
              "        `(${file.type || 'n/a'}) - ${file.size} bytes, ` +\n",
              "        `last modified: ${\n",
              "            file.lastModifiedDate ? file.lastModifiedDate.toLocaleDateString() :\n",
              "                                    'n/a'} - `));\n",
              "    const percent = span('0% done');\n",
              "    li.appendChild(percent);\n",
              "\n",
              "    outputElement.appendChild(li);\n",
              "\n",
              "    const fileDataPromise = new Promise((resolve) => {\n",
              "      const reader = new FileReader();\n",
              "      reader.onload = (e) => {\n",
              "        resolve(e.target.result);\n",
              "      };\n",
              "      reader.readAsArrayBuffer(file);\n",
              "    });\n",
              "    // Wait for the data to be ready.\n",
              "    let fileData = yield {\n",
              "      promise: fileDataPromise,\n",
              "      response: {\n",
              "        action: 'continue',\n",
              "      }\n",
              "    };\n",
              "\n",
              "    // Use a chunked sending to avoid message size limits. See b/62115660.\n",
              "    let position = 0;\n",
              "    do {\n",
              "      const length = Math.min(fileData.byteLength - position, MAX_PAYLOAD_SIZE);\n",
              "      const chunk = new Uint8Array(fileData, position, length);\n",
              "      position += length;\n",
              "\n",
              "      const base64 = btoa(String.fromCharCode.apply(null, chunk));\n",
              "      yield {\n",
              "        response: {\n",
              "          action: 'append',\n",
              "          file: file.name,\n",
              "          data: base64,\n",
              "        },\n",
              "      };\n",
              "\n",
              "      let percentDone = fileData.byteLength === 0 ?\n",
              "          100 :\n",
              "          Math.round((position / fileData.byteLength) * 100);\n",
              "      percent.textContent = `${percentDone}% done`;\n",
              "\n",
              "    } while (position < fileData.byteLength);\n",
              "  }\n",
              "\n",
              "  // All done.\n",
              "  yield {\n",
              "    response: {\n",
              "      action: 'complete',\n",
              "    }\n",
              "  };\n",
              "}\n",
              "\n",
              "scope.google = scope.google || {};\n",
              "scope.google.colab = scope.google.colab || {};\n",
              "scope.google.colab._files = {\n",
              "  _uploadFiles,\n",
              "  _uploadFilesContinue,\n",
              "};\n",
              "})(self);\n",
              "</script> "
            ]
          },
          "metadata": {}
        },
        {
          "output_type": "stream",
          "name": "stdout",
          "text": [
            "Saving example.txt to example.txt\n",
            "Hello , i am Yash Dubey. I am a third year student of BTech CSE .\n",
            "I am interested in playing chess.\n"
          ]
        }
      ]
    },
    {
      "cell_type": "markdown",
      "source": [
        "8.Use a lambda function in Python to sort a list of tuples based on the second element of each tuple."
      ],
      "metadata": {
        "id": "AkFoUzjvD60M"
      }
    },
    {
      "cell_type": "code",
      "source": [
        "l1 = [(2,4),(5,9,6),(2,1),(7,5)]\n",
        "sortList = lambda x: sorted(x, key = lambda item:item[1])\n",
        "print(sortList(l1))\n"
      ],
      "metadata": {
        "colab": {
          "base_uri": "https://localhost:8080/"
        },
        "id": "TRtYivhN_PcY",
        "outputId": "5753a463-58e9-43f8-99d9-9bad69f1b1ed"
      },
      "execution_count": 47,
      "outputs": [
        {
          "output_type": "stream",
          "name": "stdout",
          "text": [
            "[(2, 1), (2, 4), (7, 5), (5, 9, 6)]\n"
          ]
        }
      ]
    },
    {
      "cell_type": "markdown",
      "source": [
        "9. Write a Python program that uses `map()` to convert a list of temperatures from Celsius to Fahrenheit."
      ],
      "metadata": {
        "id": "vvnx0l8vHhui"
      }
    },
    {
      "cell_type": "code",
      "source": [
        "cels = [30,45,65,32]\n",
        "fahrenheit = list(map(lambda x:(x*9)/5 + 32,cels))\n",
        "print(fahrenheit)"
      ],
      "metadata": {
        "colab": {
          "base_uri": "https://localhost:8080/"
        },
        "id": "i5ZVhTkLF0bS",
        "outputId": "3673a85f-a588-4698-abea-5f7935047f1e"
      },
      "execution_count": 50,
      "outputs": [
        {
          "output_type": "stream",
          "name": "stdout",
          "text": [
            "[86.0, 113.0, 149.0, 89.6]\n"
          ]
        }
      ]
    },
    {
      "cell_type": "markdown",
      "source": [
        "10.Create a Python program that uses `filter()` to remove all the vowels from a given string."
      ],
      "metadata": {
        "id": "WLIXjTseJk7w"
      }
    },
    {
      "cell_type": "code",
      "source": [
        "s = \"pwskills\"\n",
        "vowel = \"aeiouAEIOU\"\n",
        "removeVowel = ''.join(filter(lambda x: x not in vowel,s))\n",
        "print(removeVowel)"
      ],
      "metadata": {
        "colab": {
          "base_uri": "https://localhost:8080/"
        },
        "id": "1G3e3-n9I_bq",
        "outputId": "9470d73d-a21e-480b-a55c-3f5ff1910541"
      },
      "execution_count": 58,
      "outputs": [
        {
          "output_type": "stream",
          "name": "stdout",
          "text": [
            "pwsklls\n"
          ]
        }
      ]
    },
    {
      "cell_type": "markdown",
      "source": [
        "solution 11:-"
      ],
      "metadata": {
        "id": "9T501AkpMZHq"
      }
    },
    {
      "cell_type": "code",
      "source": [
        "book_list = [[34587,\"Learning Python\",\"Mark Lutz\",4,40.95],[98762,\"Programming Python\",\"Mark Lutz\",5,56.80],\n",
        " [77226,\"Head First Python\",\"Paul Berry\",3,32.95],[88112,\"Einfuhrung in Python3\",\"Bernd Klein\",3,24.99]]\n",
        "bill = list(map(lambda x:(x[0],x[3]*x[4]) if (x[3]*x[4]) > 100  else (x[0],(x[3]*x[4]) + 10) , book_list))\n",
        "print(bill)\n"
      ],
      "metadata": {
        "colab": {
          "base_uri": "https://localhost:8080/"
        },
        "id": "2AolYDOcJjln",
        "outputId": "9e123c4d-4627-41b6-bb39-b802c5cfeaff"
      },
      "execution_count": 64,
      "outputs": [
        {
          "output_type": "stream",
          "name": "stdout",
          "text": [
            "[(34587, 163.8), (98762, 284.0), (77226, 108.85000000000001), (88112, 84.97)]\n"
          ]
        }
      ]
    },
    {
      "cell_type": "code",
      "source": [],
      "metadata": {
        "id": "BrJTDZwVZkiA"
      },
      "execution_count": null,
      "outputs": []
    }
  ]
}